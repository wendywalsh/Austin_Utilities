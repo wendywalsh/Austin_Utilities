{
 "cells": [
  {
   "cell_type": "markdown",
   "metadata": {},
   "source": [
    "Weather data scrape from https://www.usclimatedata.com/"
   ]
  },
  {
   "cell_type": "code",
   "execution_count": 1,
   "metadata": {
    "collapsed": true
   },
   "outputs": [],
   "source": [
    "# Import BeautifulSoup\n",
    "from splinter import Browser\n",
    "from bs4 import BeautifulSoup\n",
    "import pandas as pd"
   ]
  },
  {
   "cell_type": "code",
   "execution_count": 2,
   "metadata": {},
   "outputs": [
    {
     "name": "stdout",
     "output_type": "stream",
     "text": [
      "/usr/local/bin/chromedriver\r\n"
     ]
    }
   ],
   "source": [
    "!which chromedriver\n"
   ]
  },
  {
   "cell_type": "code",
   "execution_count": 3,
   "metadata": {
    "collapsed": true
   },
   "outputs": [],
   "source": [
    "# Import Splinter and set the chromedriver path\n",
    "\n",
    "executable_path = {\"executable_path\": \"/usr/local/bin/chromedriver\"}\n",
    "browser = Browser(\"chrome\", **executable_path, headless=False)"
   ]
  },
  {
   "cell_type": "code",
   "execution_count": 4,
   "metadata": {
    "collapsed": true
   },
   "outputs": [],
   "source": [
    "# Visit the following URL\n",
    "url = \"https://www.usclimatedata.com/climate/austin/texas/united-states/ustx2742/2008/1\"\n",
    "browser.visit(url)"
   ]
  },
  {
   "cell_type": "code",
   "execution_count": 5,
   "metadata": {
    "collapsed": true
   },
   "outputs": [],
   "source": [
    "html = browser.html\n",
    "weather_soup = BeautifulSoup(html, 'html.parser')"
   ]
  },
  {
   "cell_type": "code",
   "execution_count": 6,
   "metadata": {},
   "outputs": [
    {
     "data": {
      "text/plain": [
       "<table class=\"daily_climate_table\"><thead><tr><th class=\"align_left daily_climate_table_td_day\" style=\"text-align:left\">Day</th><th class=\"climate_table_data_td\">High<br/><br/>(°F)</th><th class=\"climate_table_data_td\">Low<br/><br/>(°F)</th><th class=\"climate_table_data_td\">Precip.<br/><br/>(inch)</th><th class=\"climate_table_data_td\">Snow<br/><br/>(inch)</th><th class=\"climate_table_data_td\">Snow<br/>depth<br/>(inch)</th></tr></thead><tbody></tbody><tbody><tr><td class=\"align_left daily_climate_table_td_day\">1 jan 2008</td><td class=\"align_right climate_table_data_td temperature_red \">55.0</td><td class=\"align_right climate_table_data_td temperature_blue\">37.9</td><td class=\"align_right climate_table_data_td\">0.00</td><td class=\"align_right climate_table_data_td\">0.00</td><td class=\"align_right climate_table_data_td\">0.00</td></tr><tr><td class=\"align_left daily_climate_table_td_day\">2 jan 2008</td><td class=\"align_right climate_table_data_td temperature_red \">50.0</td><td class=\"align_right climate_table_data_td temperature_blue\">30.0</td><td class=\"align_right climate_table_data_td\">0.00</td><td class=\"align_right climate_table_data_td\">0.00</td><td class=\"align_right climate_table_data_td\">0.00</td></tr><tr><td class=\"align_left daily_climate_table_td_day\">3 jan 2008</td><td class=\"align_right climate_table_data_td temperature_red \">53.1</td><td class=\"align_right climate_table_data_td temperature_blue\">28.9</td><td class=\"align_right climate_table_data_td\">0.00</td><td class=\"align_right climate_table_data_td\">0.00</td><td class=\"align_right climate_table_data_td\">0.00</td></tr><tr><td class=\"align_left daily_climate_table_td_day\">4 jan 2008</td><td class=\"align_right climate_table_data_td temperature_red \">66.0</td><td class=\"align_right climate_table_data_td temperature_blue\">34.0</td><td class=\"align_right climate_table_data_td\">0.00</td><td class=\"align_right climate_table_data_td\">0.00</td><td class=\"align_right climate_table_data_td\">0.00</td></tr><tr><td class=\"align_left daily_climate_table_td_day\">5 jan 2008</td><td class=\"align_right climate_table_data_td temperature_red \">79.0</td><td class=\"align_right climate_table_data_td temperature_blue\">57.9</td><td class=\"align_right climate_table_data_td\">0.00</td><td class=\"align_right climate_table_data_td\">0.00</td><td class=\"align_right climate_table_data_td\">0.00</td></tr><tr><td class=\"align_left daily_climate_table_td_day\">6 jan 2008</td><td class=\"align_right climate_table_data_td temperature_red \">75.0</td><td class=\"align_right climate_table_data_td temperature_blue\">57.9</td><td class=\"align_right climate_table_data_td\">0.00</td><td class=\"align_right climate_table_data_td\">0.00</td><td class=\"align_right climate_table_data_td\">0.00</td></tr><tr><td class=\"align_left daily_climate_table_td_day\">7 jan 2008</td><td class=\"align_right climate_table_data_td temperature_red \">80.1</td><td class=\"align_right climate_table_data_td temperature_blue\">66.0</td><td class=\"align_right climate_table_data_td\">0.01</td><td class=\"align_right climate_table_data_td\">0.00</td><td class=\"align_right climate_table_data_td\">0.00</td></tr><tr><td class=\"align_left daily_climate_table_td_day\">8 jan 2008</td><td class=\"align_right climate_table_data_td temperature_red \">72.0</td><td class=\"align_right climate_table_data_td temperature_blue\">46.9</td><td class=\"align_right climate_table_data_td\">T</td><td class=\"align_right climate_table_data_td\">0.00</td><td class=\"align_right climate_table_data_td\">0.00</td></tr><tr><td class=\"align_left daily_climate_table_td_day\">9 jan 2008</td><td class=\"align_right climate_table_data_td temperature_red \">68.0</td><td class=\"align_right climate_table_data_td temperature_blue\">37.9</td><td class=\"align_right climate_table_data_td\">0.00</td><td class=\"align_right climate_table_data_td\">0.00</td><td class=\"align_right climate_table_data_td\">0.00</td></tr><tr><td class=\"align_left daily_climate_table_td_day\">10 jan 2008</td><td class=\"align_right climate_table_data_td temperature_red \">69.1</td><td class=\"align_right climate_table_data_td temperature_blue\">42.1</td><td class=\"align_right climate_table_data_td\">0.00</td><td class=\"align_right climate_table_data_td\">0.00</td><td class=\"align_right climate_table_data_td\">0.00</td></tr><tr><td class=\"align_left daily_climate_table_td_day\">11 jan 2008</td><td class=\"align_right climate_table_data_td temperature_red \">69.1</td><td class=\"align_right climate_table_data_td temperature_blue\">37.0</td><td class=\"align_right climate_table_data_td\">0.00</td><td class=\"align_right climate_table_data_td\">0.00</td><td class=\"align_right climate_table_data_td\">0.00</td></tr><tr><td class=\"align_left daily_climate_table_td_day\">12 jan 2008</td><td class=\"align_right climate_table_data_td temperature_red \">71.1</td><td class=\"align_right climate_table_data_td temperature_blue\">43.0</td><td class=\"align_right climate_table_data_td\">0.00</td><td class=\"align_right climate_table_data_td\">0.00</td><td class=\"align_right climate_table_data_td\">0.00</td></tr><tr><td class=\"align_left daily_climate_table_td_day\">13 jan 2008</td><td class=\"align_right climate_table_data_td temperature_red \">64.0</td><td class=\"align_right climate_table_data_td temperature_blue\">37.9</td><td class=\"align_right climate_table_data_td\">0.00</td><td class=\"align_right climate_table_data_td\">0.00</td><td class=\"align_right climate_table_data_td\">0.00</td></tr><tr><td class=\"align_left daily_climate_table_td_day\">14 jan 2008</td><td class=\"align_right climate_table_data_td temperature_red \">63.0</td><td class=\"align_right climate_table_data_td temperature_blue\">34.0</td><td class=\"align_right climate_table_data_td\">0.00</td><td class=\"align_right climate_table_data_td\">0.00</td><td class=\"align_right climate_table_data_td\">0.00</td></tr><tr><td class=\"align_left daily_climate_table_td_day\">15 jan 2008</td><td class=\"align_right climate_table_data_td temperature_red \">53.1</td><td class=\"align_right climate_table_data_td temperature_blue\">46.0</td><td class=\"align_right climate_table_data_td\">0.05</td><td class=\"align_right climate_table_data_td\">0.00</td><td class=\"align_right climate_table_data_td\">0.00</td></tr><tr><td class=\"align_left daily_climate_table_td_day\">16 jan 2008</td><td class=\"align_right climate_table_data_td temperature_red \">57.0</td><td class=\"align_right climate_table_data_td temperature_blue\">46.0</td><td class=\"align_right climate_table_data_td\">T</td><td class=\"align_right climate_table_data_td\">0.00</td><td class=\"align_right climate_table_data_td\">0.00</td></tr><tr><td class=\"align_left daily_climate_table_td_day\">17 jan 2008</td><td class=\"align_right climate_table_data_td temperature_red \">46.9</td><td class=\"align_right climate_table_data_td temperature_blue\">32.0</td><td class=\"align_right climate_table_data_td\">0.00</td><td class=\"align_right climate_table_data_td\">0.00</td><td class=\"align_right climate_table_data_td\">0.00</td></tr><tr><td class=\"align_left daily_climate_table_td_day\">18 jan 2008</td><td class=\"align_right climate_table_data_td temperature_red \">39.9</td><td class=\"align_right climate_table_data_td temperature_blue\">33.1</td><td class=\"align_right climate_table_data_td\">0.27</td><td class=\"align_right climate_table_data_td\">0.00</td><td class=\"align_right climate_table_data_td\">0.00</td></tr><tr><td class=\"align_left daily_climate_table_td_day\">19 jan 2008</td><td class=\"align_right climate_table_data_td temperature_red \">50.0</td><td class=\"align_right climate_table_data_td temperature_blue\">30.0</td><td class=\"align_right climate_table_data_td\">0.00</td><td class=\"align_right climate_table_data_td\">0.00</td><td class=\"align_right climate_table_data_td\">0.00</td></tr><tr><td class=\"align_left daily_climate_table_td_day\">20 jan 2008</td><td class=\"align_right climate_table_data_td temperature_red \">55.9</td><td class=\"align_right climate_table_data_td temperature_blue\">25.0</td><td class=\"align_right climate_table_data_td\">T</td><td class=\"align_right climate_table_data_td\">0.00</td><td class=\"align_right climate_table_data_td\">0.00</td></tr><tr><td class=\"align_left daily_climate_table_td_day\">21 jan 2008</td><td class=\"align_right climate_table_data_td temperature_red \">55.0</td><td class=\"align_right climate_table_data_td temperature_blue\">44.1</td><td class=\"align_right climate_table_data_td\">0.40</td><td class=\"align_right climate_table_data_td\">0.00</td><td class=\"align_right climate_table_data_td\">0.00</td></tr><tr><td class=\"align_left daily_climate_table_td_day\">22 jan 2008</td><td class=\"align_right climate_table_data_td temperature_red \">59.0</td><td class=\"align_right climate_table_data_td temperature_blue\">34.0</td><td class=\"align_right climate_table_data_td\">T</td><td class=\"align_right climate_table_data_td\">0.00</td><td class=\"align_right climate_table_data_td\">0.00</td></tr><tr><td class=\"align_left daily_climate_table_td_day\">23 jan 2008</td><td class=\"align_right climate_table_data_td temperature_red \">41.0</td><td class=\"align_right climate_table_data_td temperature_blue\">34.0</td><td class=\"align_right climate_table_data_td\">0.01</td><td class=\"align_right climate_table_data_td\">0.00</td><td class=\"align_right climate_table_data_td\">0.00</td></tr><tr><td class=\"align_left daily_climate_table_td_day\">24 jan 2008</td><td class=\"align_right climate_table_data_td temperature_red \">44.1</td><td class=\"align_right climate_table_data_td temperature_blue\">37.0</td><td class=\"align_right climate_table_data_td\">T</td><td class=\"align_right climate_table_data_td\">0.00</td><td class=\"align_right climate_table_data_td\">0.00</td></tr><tr><td class=\"align_left daily_climate_table_td_day\">25 jan 2008</td><td class=\"align_right climate_table_data_td temperature_red \">42.1</td><td class=\"align_right climate_table_data_td temperature_blue\">39.0</td><td class=\"align_right climate_table_data_td\">0.04</td><td class=\"align_right climate_table_data_td\">0.00</td><td class=\"align_right climate_table_data_td\">0.00</td></tr><tr><td class=\"align_left daily_climate_table_td_day\">26 jan 2008</td><td class=\"align_right climate_table_data_td temperature_red \">73.0</td><td class=\"align_right climate_table_data_td temperature_blue\">37.0</td><td class=\"align_right climate_table_data_td\">0.00</td><td class=\"align_right climate_table_data_td\">0.00</td><td class=\"align_right climate_table_data_td\">0.00</td></tr><tr><td class=\"align_left daily_climate_table_td_day\">27 jan 2008</td><td class=\"align_right climate_table_data_td temperature_red \">70.0</td><td class=\"align_right climate_table_data_td temperature_blue\">39.9</td><td class=\"align_right climate_table_data_td\">0.00</td><td class=\"align_right climate_table_data_td\">0.00</td><td class=\"align_right climate_table_data_td\">0.00</td></tr><tr><td class=\"align_left daily_climate_table_td_day\">28 jan 2008</td><td class=\"align_right climate_table_data_td temperature_red \">72.0</td><td class=\"align_right climate_table_data_td temperature_blue\">51.1</td><td class=\"align_right climate_table_data_td\">0.00</td><td class=\"align_right climate_table_data_td\">0.00</td><td class=\"align_right climate_table_data_td\">0.00</td></tr><tr><td class=\"align_left daily_climate_table_td_day\">29 jan 2008</td><td class=\"align_right climate_table_data_td temperature_red \">73.0</td><td class=\"align_right climate_table_data_td temperature_blue\">43.0</td><td class=\"align_right climate_table_data_td\">0.00</td><td class=\"align_right climate_table_data_td\">0.00</td><td class=\"align_right climate_table_data_td\">0.00</td></tr><tr><td class=\"align_left daily_climate_table_td_day\">30 jan 2008</td><td class=\"align_right climate_table_data_td temperature_red \">61.0</td><td class=\"align_right climate_table_data_td temperature_blue\">32.0</td><td class=\"align_right climate_table_data_td\">0.00</td><td class=\"align_right climate_table_data_td\">0.00</td><td class=\"align_right climate_table_data_td\">0.00</td></tr><tr><td class=\"align_left daily_climate_table_td_day\">31 jan 2008</td><td class=\"align_right climate_table_data_td temperature_red \">61.0</td><td class=\"align_right climate_table_data_td temperature_blue\">39.9</td><td class=\"align_right climate_table_data_td\">0.04</td><td class=\"align_right climate_table_data_td\">0.00</td><td class=\"align_right climate_table_data_td\">0.00</td></tr></tbody></table>"
      ]
     },
     "execution_count": 6,
     "metadata": {},
     "output_type": "execute_result"
    }
   ],
   "source": [
    "#find and click \"history button\"\n",
    "janurary_2008 = weather_soup.find('table', class_='daily_climate_table')\n",
    "janurary_2008"
   ]
  },
  {
   "cell_type": "code",
   "execution_count": 12,
   "metadata": {},
   "outputs": [
    {
     "data": {
      "text/plain": [
       "[<tr><th class=\"align_left daily_climate_table_td_day\" style=\"text-align:left\">Day</th><th class=\"climate_table_data_td\">High<br/><br/>(°F)</th><th class=\"climate_table_data_td\">Low<br/><br/>(°F)</th><th class=\"climate_table_data_td\">Precip.<br/><br/>(inch)</th><th class=\"climate_table_data_td\">Snow<br/><br/>(inch)</th><th class=\"climate_table_data_td\">Snow<br/>depth<br/>(inch)</th></tr>,\n",
       " <tr><td class=\"align_left daily_climate_table_td_day\">1 jan 2008</td><td class=\"align_right climate_table_data_td temperature_red \">55.0</td><td class=\"align_right climate_table_data_td temperature_blue\">37.9</td><td class=\"align_right climate_table_data_td\">0.00</td><td class=\"align_right climate_table_data_td\">0.00</td><td class=\"align_right climate_table_data_td\">0.00</td></tr>,\n",
       " <tr><td class=\"align_left daily_climate_table_td_day\">2 jan 2008</td><td class=\"align_right climate_table_data_td temperature_red \">50.0</td><td class=\"align_right climate_table_data_td temperature_blue\">30.0</td><td class=\"align_right climate_table_data_td\">0.00</td><td class=\"align_right climate_table_data_td\">0.00</td><td class=\"align_right climate_table_data_td\">0.00</td></tr>,\n",
       " <tr><td class=\"align_left daily_climate_table_td_day\">3 jan 2008</td><td class=\"align_right climate_table_data_td temperature_red \">53.1</td><td class=\"align_right climate_table_data_td temperature_blue\">28.9</td><td class=\"align_right climate_table_data_td\">0.00</td><td class=\"align_right climate_table_data_td\">0.00</td><td class=\"align_right climate_table_data_td\">0.00</td></tr>,\n",
       " <tr><td class=\"align_left daily_climate_table_td_day\">4 jan 2008</td><td class=\"align_right climate_table_data_td temperature_red \">66.0</td><td class=\"align_right climate_table_data_td temperature_blue\">34.0</td><td class=\"align_right climate_table_data_td\">0.00</td><td class=\"align_right climate_table_data_td\">0.00</td><td class=\"align_right climate_table_data_td\">0.00</td></tr>,\n",
       " <tr><td class=\"align_left daily_climate_table_td_day\">5 jan 2008</td><td class=\"align_right climate_table_data_td temperature_red \">79.0</td><td class=\"align_right climate_table_data_td temperature_blue\">57.9</td><td class=\"align_right climate_table_data_td\">0.00</td><td class=\"align_right climate_table_data_td\">0.00</td><td class=\"align_right climate_table_data_td\">0.00</td></tr>,\n",
       " <tr><td class=\"align_left daily_climate_table_td_day\">6 jan 2008</td><td class=\"align_right climate_table_data_td temperature_red \">75.0</td><td class=\"align_right climate_table_data_td temperature_blue\">57.9</td><td class=\"align_right climate_table_data_td\">0.00</td><td class=\"align_right climate_table_data_td\">0.00</td><td class=\"align_right climate_table_data_td\">0.00</td></tr>,\n",
       " <tr><td class=\"align_left daily_climate_table_td_day\">7 jan 2008</td><td class=\"align_right climate_table_data_td temperature_red \">80.1</td><td class=\"align_right climate_table_data_td temperature_blue\">66.0</td><td class=\"align_right climate_table_data_td\">0.01</td><td class=\"align_right climate_table_data_td\">0.00</td><td class=\"align_right climate_table_data_td\">0.00</td></tr>,\n",
       " <tr><td class=\"align_left daily_climate_table_td_day\">8 jan 2008</td><td class=\"align_right climate_table_data_td temperature_red \">72.0</td><td class=\"align_right climate_table_data_td temperature_blue\">46.9</td><td class=\"align_right climate_table_data_td\">T</td><td class=\"align_right climate_table_data_td\">0.00</td><td class=\"align_right climate_table_data_td\">0.00</td></tr>,\n",
       " <tr><td class=\"align_left daily_climate_table_td_day\">9 jan 2008</td><td class=\"align_right climate_table_data_td temperature_red \">68.0</td><td class=\"align_right climate_table_data_td temperature_blue\">37.9</td><td class=\"align_right climate_table_data_td\">0.00</td><td class=\"align_right climate_table_data_td\">0.00</td><td class=\"align_right climate_table_data_td\">0.00</td></tr>,\n",
       " <tr><td class=\"align_left daily_climate_table_td_day\">10 jan 2008</td><td class=\"align_right climate_table_data_td temperature_red \">69.1</td><td class=\"align_right climate_table_data_td temperature_blue\">42.1</td><td class=\"align_right climate_table_data_td\">0.00</td><td class=\"align_right climate_table_data_td\">0.00</td><td class=\"align_right climate_table_data_td\">0.00</td></tr>,\n",
       " <tr><td class=\"align_left daily_climate_table_td_day\">11 jan 2008</td><td class=\"align_right climate_table_data_td temperature_red \">69.1</td><td class=\"align_right climate_table_data_td temperature_blue\">37.0</td><td class=\"align_right climate_table_data_td\">0.00</td><td class=\"align_right climate_table_data_td\">0.00</td><td class=\"align_right climate_table_data_td\">0.00</td></tr>,\n",
       " <tr><td class=\"align_left daily_climate_table_td_day\">12 jan 2008</td><td class=\"align_right climate_table_data_td temperature_red \">71.1</td><td class=\"align_right climate_table_data_td temperature_blue\">43.0</td><td class=\"align_right climate_table_data_td\">0.00</td><td class=\"align_right climate_table_data_td\">0.00</td><td class=\"align_right climate_table_data_td\">0.00</td></tr>,\n",
       " <tr><td class=\"align_left daily_climate_table_td_day\">13 jan 2008</td><td class=\"align_right climate_table_data_td temperature_red \">64.0</td><td class=\"align_right climate_table_data_td temperature_blue\">37.9</td><td class=\"align_right climate_table_data_td\">0.00</td><td class=\"align_right climate_table_data_td\">0.00</td><td class=\"align_right climate_table_data_td\">0.00</td></tr>,\n",
       " <tr><td class=\"align_left daily_climate_table_td_day\">14 jan 2008</td><td class=\"align_right climate_table_data_td temperature_red \">63.0</td><td class=\"align_right climate_table_data_td temperature_blue\">34.0</td><td class=\"align_right climate_table_data_td\">0.00</td><td class=\"align_right climate_table_data_td\">0.00</td><td class=\"align_right climate_table_data_td\">0.00</td></tr>,\n",
       " <tr><td class=\"align_left daily_climate_table_td_day\">15 jan 2008</td><td class=\"align_right climate_table_data_td temperature_red \">53.1</td><td class=\"align_right climate_table_data_td temperature_blue\">46.0</td><td class=\"align_right climate_table_data_td\">0.05</td><td class=\"align_right climate_table_data_td\">0.00</td><td class=\"align_right climate_table_data_td\">0.00</td></tr>,\n",
       " <tr><td class=\"align_left daily_climate_table_td_day\">16 jan 2008</td><td class=\"align_right climate_table_data_td temperature_red \">57.0</td><td class=\"align_right climate_table_data_td temperature_blue\">46.0</td><td class=\"align_right climate_table_data_td\">T</td><td class=\"align_right climate_table_data_td\">0.00</td><td class=\"align_right climate_table_data_td\">0.00</td></tr>,\n",
       " <tr><td class=\"align_left daily_climate_table_td_day\">17 jan 2008</td><td class=\"align_right climate_table_data_td temperature_red \">46.9</td><td class=\"align_right climate_table_data_td temperature_blue\">32.0</td><td class=\"align_right climate_table_data_td\">0.00</td><td class=\"align_right climate_table_data_td\">0.00</td><td class=\"align_right climate_table_data_td\">0.00</td></tr>,\n",
       " <tr><td class=\"align_left daily_climate_table_td_day\">18 jan 2008</td><td class=\"align_right climate_table_data_td temperature_red \">39.9</td><td class=\"align_right climate_table_data_td temperature_blue\">33.1</td><td class=\"align_right climate_table_data_td\">0.27</td><td class=\"align_right climate_table_data_td\">0.00</td><td class=\"align_right climate_table_data_td\">0.00</td></tr>,\n",
       " <tr><td class=\"align_left daily_climate_table_td_day\">19 jan 2008</td><td class=\"align_right climate_table_data_td temperature_red \">50.0</td><td class=\"align_right climate_table_data_td temperature_blue\">30.0</td><td class=\"align_right climate_table_data_td\">0.00</td><td class=\"align_right climate_table_data_td\">0.00</td><td class=\"align_right climate_table_data_td\">0.00</td></tr>,\n",
       " <tr><td class=\"align_left daily_climate_table_td_day\">20 jan 2008</td><td class=\"align_right climate_table_data_td temperature_red \">55.9</td><td class=\"align_right climate_table_data_td temperature_blue\">25.0</td><td class=\"align_right climate_table_data_td\">T</td><td class=\"align_right climate_table_data_td\">0.00</td><td class=\"align_right climate_table_data_td\">0.00</td></tr>,\n",
       " <tr><td class=\"align_left daily_climate_table_td_day\">21 jan 2008</td><td class=\"align_right climate_table_data_td temperature_red \">55.0</td><td class=\"align_right climate_table_data_td temperature_blue\">44.1</td><td class=\"align_right climate_table_data_td\">0.40</td><td class=\"align_right climate_table_data_td\">0.00</td><td class=\"align_right climate_table_data_td\">0.00</td></tr>,\n",
       " <tr><td class=\"align_left daily_climate_table_td_day\">22 jan 2008</td><td class=\"align_right climate_table_data_td temperature_red \">59.0</td><td class=\"align_right climate_table_data_td temperature_blue\">34.0</td><td class=\"align_right climate_table_data_td\">T</td><td class=\"align_right climate_table_data_td\">0.00</td><td class=\"align_right climate_table_data_td\">0.00</td></tr>,\n",
       " <tr><td class=\"align_left daily_climate_table_td_day\">23 jan 2008</td><td class=\"align_right climate_table_data_td temperature_red \">41.0</td><td class=\"align_right climate_table_data_td temperature_blue\">34.0</td><td class=\"align_right climate_table_data_td\">0.01</td><td class=\"align_right climate_table_data_td\">0.00</td><td class=\"align_right climate_table_data_td\">0.00</td></tr>,\n",
       " <tr><td class=\"align_left daily_climate_table_td_day\">24 jan 2008</td><td class=\"align_right climate_table_data_td temperature_red \">44.1</td><td class=\"align_right climate_table_data_td temperature_blue\">37.0</td><td class=\"align_right climate_table_data_td\">T</td><td class=\"align_right climate_table_data_td\">0.00</td><td class=\"align_right climate_table_data_td\">0.00</td></tr>,\n",
       " <tr><td class=\"align_left daily_climate_table_td_day\">25 jan 2008</td><td class=\"align_right climate_table_data_td temperature_red \">42.1</td><td class=\"align_right climate_table_data_td temperature_blue\">39.0</td><td class=\"align_right climate_table_data_td\">0.04</td><td class=\"align_right climate_table_data_td\">0.00</td><td class=\"align_right climate_table_data_td\">0.00</td></tr>,\n",
       " <tr><td class=\"align_left daily_climate_table_td_day\">26 jan 2008</td><td class=\"align_right climate_table_data_td temperature_red \">73.0</td><td class=\"align_right climate_table_data_td temperature_blue\">37.0</td><td class=\"align_right climate_table_data_td\">0.00</td><td class=\"align_right climate_table_data_td\">0.00</td><td class=\"align_right climate_table_data_td\">0.00</td></tr>,\n",
       " <tr><td class=\"align_left daily_climate_table_td_day\">27 jan 2008</td><td class=\"align_right climate_table_data_td temperature_red \">70.0</td><td class=\"align_right climate_table_data_td temperature_blue\">39.9</td><td class=\"align_right climate_table_data_td\">0.00</td><td class=\"align_right climate_table_data_td\">0.00</td><td class=\"align_right climate_table_data_td\">0.00</td></tr>,\n",
       " <tr><td class=\"align_left daily_climate_table_td_day\">28 jan 2008</td><td class=\"align_right climate_table_data_td temperature_red \">72.0</td><td class=\"align_right climate_table_data_td temperature_blue\">51.1</td><td class=\"align_right climate_table_data_td\">0.00</td><td class=\"align_right climate_table_data_td\">0.00</td><td class=\"align_right climate_table_data_td\">0.00</td></tr>,\n",
       " <tr><td class=\"align_left daily_climate_table_td_day\">29 jan 2008</td><td class=\"align_right climate_table_data_td temperature_red \">73.0</td><td class=\"align_right climate_table_data_td temperature_blue\">43.0</td><td class=\"align_right climate_table_data_td\">0.00</td><td class=\"align_right climate_table_data_td\">0.00</td><td class=\"align_right climate_table_data_td\">0.00</td></tr>,\n",
       " <tr><td class=\"align_left daily_climate_table_td_day\">30 jan 2008</td><td class=\"align_right climate_table_data_td temperature_red \">61.0</td><td class=\"align_right climate_table_data_td temperature_blue\">32.0</td><td class=\"align_right climate_table_data_td\">0.00</td><td class=\"align_right climate_table_data_td\">0.00</td><td class=\"align_right climate_table_data_td\">0.00</td></tr>,\n",
       " <tr><td class=\"align_left daily_climate_table_td_day\">31 jan 2008</td><td class=\"align_right climate_table_data_td temperature_red \">61.0</td><td class=\"align_right climate_table_data_td temperature_blue\">39.9</td><td class=\"align_right climate_table_data_td\">0.04</td><td class=\"align_right climate_table_data_td\">0.00</td><td class=\"align_right climate_table_data_td\">0.00</td></tr>]"
      ]
     },
     "execution_count": 12,
     "metadata": {},
     "output_type": "execute_result"
    }
   ],
   "source": [
    "x = janurary_2008.find_all('tr')\n",
    "x"
   ]
  },
  {
   "cell_type": "code",
   "execution_count": 13,
   "metadata": {},
   "outputs": [
    {
     "ename": "AttributeError",
     "evalue": "ResultSet object has no attribute 'find'. You're probably treating a list of items like a single item. Did you call find_all() when you meant to call find()?",
     "output_type": "error",
     "traceback": [
      "\u001b[0;31m---------------------------------------------------------------------------\u001b[0m",
      "\u001b[0;31mAttributeError\u001b[0m                            Traceback (most recent call last)",
      "\u001b[0;32m<ipython-input-13-8fb6886c650a>\u001b[0m in \u001b[0;36m<module>\u001b[0;34m()\u001b[0m\n\u001b[1;32m      2\u001b[0m     \u001b[0mtable_body\u001b[0m \u001b[0;34m=\u001b[0m \u001b[0mjanurary_2008\u001b[0m\u001b[0;34m.\u001b[0m\u001b[0mfind_all\u001b[0m\u001b[0;34m(\u001b[0m\u001b[0;34m'tr'\u001b[0m\u001b[0;34m)\u001b[0m\u001b[0;34m\u001b[0m\u001b[0m\n\u001b[1;32m      3\u001b[0m     \u001b[0;32mfor\u001b[0m \u001b[0mx\u001b[0m \u001b[0;32min\u001b[0m \u001b[0mtable_body\u001b[0m\u001b[0;34m:\u001b[0m\u001b[0;34m\u001b[0m\u001b[0m\n\u001b[0;32m----> 4\u001b[0;31m         \u001b[0mdate\u001b[0m \u001b[0;34m=\u001b[0m \u001b[0mtable_body\u001b[0m\u001b[0;34m.\u001b[0m\u001b[0mfind\u001b[0m\u001b[0;34m(\u001b[0m\u001b[0;34m'td'\u001b[0m\u001b[0;34m,\u001b[0m \u001b[0mclass_\u001b[0m \u001b[0;34m=\u001b[0m \u001b[0;34m\"align_left daily_climate_table_td_day\"\u001b[0m\u001b[0;34m)\u001b[0m\u001b[0;34m\u001b[0m\u001b[0m\n\u001b[0m\u001b[1;32m      5\u001b[0m         \u001b[0mhigh_temp\u001b[0m \u001b[0;34m=\u001b[0m \u001b[0mtable_body\u001b[0m\u001b[0;34m.\u001b[0m\u001b[0mfind\u001b[0m\u001b[0;34m(\u001b[0m\u001b[0;34m'td'\u001b[0m\u001b[0;34m,\u001b[0m \u001b[0mclass_\u001b[0m \u001b[0;34m=\u001b[0m \u001b[0;34m'align_right climate_table_data_td temperature_red'\u001b[0m\u001b[0;34m)\u001b[0m\u001b[0;34m\u001b[0m\u001b[0m\n\u001b[1;32m      6\u001b[0m         \u001b[0mlow_temp\u001b[0m \u001b[0;34m=\u001b[0m \u001b[0mtable_body\u001b[0m\u001b[0;34m.\u001b[0m\u001b[0mfind\u001b[0m\u001b[0;34m(\u001b[0m\u001b[0;34m'td'\u001b[0m\u001b[0;34m,\u001b[0m \u001b[0mclass_\u001b[0m \u001b[0;34m=\u001b[0m \u001b[0;34m'align_right climate_table_data_td temperature_blue'\u001b[0m\u001b[0;34m)\u001b[0m\u001b[0;34m\u001b[0m\u001b[0m\n",
      "\u001b[0;32m~/anaconda/envs/py36/lib/python3.6/site-packages/bs4/element.py\u001b[0m in \u001b[0;36m__getattr__\u001b[0;34m(self, key)\u001b[0m\n\u001b[1;32m   1805\u001b[0m     \u001b[0;32mdef\u001b[0m \u001b[0m__getattr__\u001b[0m\u001b[0;34m(\u001b[0m\u001b[0mself\u001b[0m\u001b[0;34m,\u001b[0m \u001b[0mkey\u001b[0m\u001b[0;34m)\u001b[0m\u001b[0;34m:\u001b[0m\u001b[0;34m\u001b[0m\u001b[0m\n\u001b[1;32m   1806\u001b[0m         raise AttributeError(\n\u001b[0;32m-> 1807\u001b[0;31m             \u001b[0;34m\"ResultSet object has no attribute '%s'. You're probably treating a list of items like a single item. Did you call find_all() when you meant to call find()?\"\u001b[0m \u001b[0;34m%\u001b[0m \u001b[0mkey\u001b[0m\u001b[0;34m\u001b[0m\u001b[0m\n\u001b[0m\u001b[1;32m   1808\u001b[0m         )\n",
      "\u001b[0;31mAttributeError\u001b[0m: ResultSet object has no attribute 'find'. You're probably treating a list of items like a single item. Did you call find_all() when you meant to call find()?"
     ]
    }
   ],
   "source": [
    "for x in janurary_2008:\n",
    "    table_body = janurary_2008.find_all('tr')\n",
    "    for x in table_body:\n",
    "        date = table_body.find('td', class_ = \"align_left daily_climate_table_td_day\")\n",
    "        high_temp = table_body.find('td', class_ = 'align_right climate_table_data_td temperature_red')\n",
    "        low_temp = table_body.find('td', class_ = 'align_right climate_table_data_td temperature_blue')\n",
    "        percip = table_body.find('td', class_ = 'align_right climate_table_data_td')\n",
    "        snow = table_body.find('td', class_ = 'align_right climate_table_data_td')\n",
    "        snow_depth = table_body.find('td', class_ = 'align_right climate_table_data_td')\n",
    "        \n",
    "        for x in data:\n",
    "            date = x.text\n",
    "\n",
    "\n",
    "\n"
   ]
  },
  {
   "cell_type": "code",
   "execution_count": null,
   "metadata": {},
   "outputs": [],
   "source": [
    "\n",
    "# empty df created to store data. Lat and long pulled from api not original list of cities.\n",
    "weather_df = pd.DataFrame(columns=[\"Day\", \"High_temp\", \"Low_temp\",\n",
    "                                   \"Percip\", \"Snow\", \"Snow_dept\"])\n",
    "\n",
    "for table in janurary_2008:\n",
    "    table_body = janurary_2008.find('tbody')\n",
    "    try:\n",
    "        rows = table_body.find_all('tr')\n",
    "        for tr in rows:\n",
    "            #cols = tr.find_all('td')\n",
    "            day = tr.find('td', class_ = \"align_left daily_climate_table_td_day\")\n",
    "            High_temp = tr.find('td', class_ = 'align_right climate_table_data_td temperature_red')\n",
    "            Low_temp = tr.find('td', class_ = 'align_right climate_table_data_td temperature_blue')\n",
    "            Percip = tr.find('td', class_ = 'align_right climate_table_data_td')\n",
    "            Snow = tr.find('td', class_ = 'align_right climate_table_data_td')\n",
    "            Snow_depth = tr.findfind('td', class_ = 'align_right climate_table_data_td')\n",
    "            \n",
    "            weather_df = weather_df.append({\"Name\": name, \"Latitude\": lat, \"Longitude\": lon, \"Max Temp\": temp,\n",
    "                                        \"Humidity\": humidity, \"Cloudiness\": clouds, \"Wind Speed\": wind, \"Date\": date}, ignore_\n",
    "            for td in cols:\n",
    "                index=True\n",
    "    except:\n",
    "        print(\"no tbody\")\n",
    "                                           \n",
    "                                           \n",
    "                                            date = table_body\n",
    "        high_temp = table_body.find\n",
    "        low_temp = table_body.\n",
    "        percip = table_body.\n",
    "        snow = table_body.\n",
    "        snow_depth = table_body."
   ]
  },
  {
   "cell_type": "code",
   "execution_count": 14,
   "metadata": {},
   "outputs": [
    {
     "data": {
      "text/plain": [
       "<td class=\"align_left daily_climate_table_td_day\">1 jan 2008</td>"
      ]
     },
     "execution_count": 14,
     "metadata": {},
     "output_type": "execute_result"
    }
   ],
   "source": [
    "dates = janurary_2008.find('td', class_= 'align_left daily_climate_table_td_day')\n",
    "dates"
   ]
  },
  {
   "cell_type": "code",
   "execution_count": 15,
   "metadata": {},
   "outputs": [
    {
     "data": {
      "text/plain": [
       "'1 jan 2008'"
      ]
     },
     "execution_count": 15,
     "metadata": {},
     "output_type": "execute_result"
    }
   ],
   "source": [
    "dates.get_text()"
   ]
  },
  {
   "cell_type": "code",
   "execution_count": null,
   "metadata": {},
   "outputs": [],
   "source": [
    "#<td class=\"align_left daily_climate_table_td_day\">1 jan 2008</td>\n",
    "dates = janurary_2008.find_all('td', class_= 'align_left daily_climate_table_td_day')\n",
    "dates\n",
    "\n",
    "for x in dates:\n",
    "#date = janurary_2008.find_by_id('stWelcomeInbox').first\n",
    "#print element.text"
   ]
  },
  {
   "cell_type": "code",
   "execution_count": null,
   "metadata": {
    "collapsed": true
   },
   "outputs": [],
   "source": [
    "<td class=\"align_right climate_table_data_td temperature_red \">55.0</td>"
   ]
  },
  {
   "cell_type": "code",
   "execution_count": null,
   "metadata": {
    "collapsed": true
   },
   "outputs": [],
   "source": [
    "<td class=\"align_right climate_table_data_td temperature_blue\">37.9</td>"
   ]
  },
  {
   "cell_type": "code",
   "execution_count": null,
   "metadata": {
    "collapsed": true
   },
   "outputs": [],
   "source": [
    "<td class=\"align_right climate_table_data_td\">0.00</td>"
   ]
  },
  {
   "cell_type": "code",
   "execution_count": null,
   "metadata": {
    "collapsed": true
   },
   "outputs": [],
   "source": [
    "<td class=\"align_right climate_table_data_td\">0.00</td>"
   ]
  },
  {
   "cell_type": "code",
   "execution_count": null,
   "metadata": {
    "collapsed": true
   },
   "outputs": [],
   "source": [
    "<td class=\"align_right climate_table_data_td\">0.00</td></tr><tr>"
   ]
  },
  {
   "cell_type": "code",
   "execution_count": null,
   "metadata": {
    "collapsed": true
   },
   "outputs": [],
   "source": []
  },
  {
   "cell_type": "code",
   "execution_count": null,
   "metadata": {
    "collapsed": true
   },
   "outputs": [],
   "source": []
  },
  {
   "cell_type": "code",
   "execution_count": null,
   "metadata": {
    "collapsed": true
   },
   "outputs": [],
   "source": []
  },
  {
   "cell_type": "code",
   "execution_count": null,
   "metadata": {
    "collapsed": true
   },
   "outputs": [],
   "source": []
  },
  {
   "cell_type": "code",
   "execution_count": null,
   "metadata": {
    "collapsed": true
   },
   "outputs": [],
   "source": []
  },
  {
   "cell_type": "code",
   "execution_count": null,
   "metadata": {
    "collapsed": true
   },
   "outputs": [],
   "source": []
  },
  {
   "cell_type": "code",
   "execution_count": null,
   "metadata": {
    "collapsed": true
   },
   "outputs": [],
   "source": []
  },
  {
   "cell_type": "code",
   "execution_count": null,
   "metadata": {
    "collapsed": true
   },
   "outputs": [],
   "source": []
  }
 ],
 "metadata": {
  "kernelspec": {
   "display_name": "Python 3",
   "language": "python",
   "name": "python3"
  },
  "language_info": {
   "codemirror_mode": {
    "name": "ipython",
    "version": 3
   },
   "file_extension": ".py",
   "mimetype": "text/x-python",
   "name": "python",
   "nbconvert_exporter": "python",
   "pygments_lexer": "ipython3",
   "version": "3.6.2"
  }
 },
 "nbformat": 4,
 "nbformat_minor": 2
}
